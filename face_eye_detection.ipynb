{
 "cells": [
  {
   "cell_type": "code",
   "execution_count": 256,
   "metadata": {},
   "outputs": [],
   "source": [
    "#from imutils import paths\n",
    "import numpy as np\n",
    "#import argparse\n",
    "#import imutils\n",
    "#import pickle\n",
    "import cv2\n",
    "import os"
   ]
  },
  {
   "cell_type": "code",
   "execution_count": 257,
   "metadata": {},
   "outputs": [],
   "source": [
    "#face_cascade = cv2.CascadeClassifier('haarcascade_frontalface_default.xml')\n",
    "face_cascade = cv2.CascadeClassifier('D:\\KUNTAL\\Python\\python_notes\\Image_Processing\\haarcascade_frontalface_default.xml')\n",
    "eye_cascade = cv2.CascadeClassifier('D:\\KUNTAL\\Python\\python_notes\\Image_Processing\\haarcascade_eye.xml')\n"
   ]
  },
  {
   "cell_type": "code",
   "execution_count": 258,
   "metadata": {},
   "outputs": [],
   "source": [
    "# read the image file here in .jpg file\n",
    "#img = cv2.imread(r'D:\\KUNTAL\\Python\\python_notes\\Image_Processing\\test.jpg')\n",
    "img = cv2.imread(r'D:\\KUNTAL\\Python\\python_notes\\Image_Processing\\hyd.jpg')\n",
    "#img = cv2.imread(r'D:\\KUNTAL\\Python\\python_notes\\Image_Processing\\office_photo.jpg')\n",
    "#img = cv2.imread(r'D:\\KUNTAL\\Python\\python_notes\\Image_Processing\\ramoji.jpg') --> not working due to sunglass\n",
    "#img = cv2.imread(r'D:\\KUNTAL\\Python\\python_notes\\Image_Processing\\innova.jpg') #--> not working due to sunglass\n",
    "\n",
    "#print(img) \n",
    "#print(img.shape)"
   ]
  },
  {
   "cell_type": "code",
   "execution_count": 259,
   "metadata": {},
   "outputs": [],
   "source": [
    "# Convert into grayscale\n",
    "gray = cv2.cvtColor(img, cv2.COLOR_BGR2GRAY)\n"
   ]
  },
  {
   "cell_type": "code",
   "execution_count": 260,
   "metadata": {},
   "outputs": [
    {
     "name": "stdout",
     "output_type": "stream",
     "text": [
      "Found 3 faces!\n"
     ]
    }
   ],
   "source": [
    "# Detect faces\n",
    "#faces = face_cascade.detectMultiScale(gray, 1.3, 5)\n",
    "#faces = face_cascade.detectMultiScale(gray, 1.3, 3) ---> it's working fine\n",
    "faces = face_cascade.detectMultiScale(\n",
    "    gray,\n",
    "    scaleFactor=1.3,\n",
    "    minNeighbors=5,\n",
    "    minSize=(30,30)\n",
    ")\n",
    "\n",
    "print(\"Found {0} faces!\".format(len(faces)))"
   ]
  },
  {
   "cell_type": "code",
   "execution_count": 261,
   "metadata": {},
   "outputs": [],
   "source": [
    "# Draw rectangle around the faces\n",
    "#for (x, y, w, h) in faces:\n",
    " #  cv2.rectangle(img, (x, y), (x+w, y+h), (255, 0, 0), 2)\n"
   ]
  },
  {
   "cell_type": "code",
   "execution_count": 262,
   "metadata": {},
   "outputs": [
    {
     "name": "stdout",
     "output_type": "stream",
     "text": [
      "Found 2 eyes!\n",
      "Found 2 eyes!\n",
      "Found 2 eyes!\n"
     ]
    }
   ],
   "source": [
    "# draw rectangle around face and eyes\n",
    "for (x,y,w,h) in faces:\n",
    "    cv2.rectangle(img,(x,y),(x+w,y+h),(255,0,0),2)\n",
    "    roi_gray = gray[y:y+h, x:x+w]\n",
    "    roi_color = img[y:y+h, x:x+w]\n",
    "    #eyes = eye_cascade.detectMultiScale(roi_gray)\n",
    "    #eyes = eye_cascade.detectMultiScale(roi_color, scaleFactor=1.5, minNeighbors=5)\n",
    "    eyes = eye_cascade.detectMultiScale(roi_color, scaleFactor=1.3, minNeighbors=5)\n",
    "    print(\"Found {0} eyes!\".format(len(eyes)))\n",
    "    for (ex,ey,ew,eh) in eyes:\n",
    "        cv2.rectangle(roi_color,(ex,ey),(ex+ew,ey+eh),(0,255,0),2)\n"
   ]
  },
  {
   "cell_type": "code",
   "execution_count": 263,
   "metadata": {},
   "outputs": [],
   "source": [
    "#roi_gray"
   ]
  },
  {
   "cell_type": "code",
   "execution_count": 264,
   "metadata": {},
   "outputs": [],
   "source": [
    "# Display the output\n",
    "#cv2.imshow('img', img)\n",
    "#cv2.namedWindow('Faces found', cv2.WINDOW_NORMAL) --> it's working\n",
    "cv2.namedWindow(\"Faces found\", cv2.WND_PROP_FULLSCREEN)\n",
    "#cv2.setWindowProperty(\"Faces found\",cv2.WND_PROP_FULLSCREEN,cv2.WINDOW_FULLSCREEN)\n",
    "cv2.imshow('Faces found', img)\n",
    "\n",
    "# to save the image\n",
    "#cv2.imwrite('D:\\KUNTAL\\Python\\python_notes\\Image_Processing\\face_output.jpg', img)\n",
    "\n",
    "cv2.waitKey(0)\n",
    "cv2.destroyAllWindows()"
   ]
  },
  {
   "cell_type": "code",
   "execution_count": null,
   "metadata": {},
   "outputs": [],
   "source": []
  },
  {
   "cell_type": "code",
   "execution_count": null,
   "metadata": {},
   "outputs": [],
   "source": []
  }
 ],
 "metadata": {
  "kernelspec": {
   "display_name": "Python 3",
   "language": "python",
   "name": "python3"
  },
  "language_info": {
   "codemirror_mode": {
    "name": "ipython",
    "version": 3
   },
   "file_extension": ".py",
   "mimetype": "text/x-python",
   "name": "python",
   "nbconvert_exporter": "python",
   "pygments_lexer": "ipython3",
   "version": "3.7.4"
  }
 },
 "nbformat": 4,
 "nbformat_minor": 2
}
